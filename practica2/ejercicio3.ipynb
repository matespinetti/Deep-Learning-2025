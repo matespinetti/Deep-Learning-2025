{
 "cells": [
  {
   "cell_type": "code",
   "execution_count": 39,
   "id": "75cd9111",
   "metadata": {},
   "outputs": [],
   "source": [
    "import pandas as pd\n",
    "import numpy as np\n",
    "import matplotlib.pyplot as plt\n",
    "import seaborn as sns"
   ]
  },
  {
   "cell_type": "code",
   "execution_count": 40,
   "id": "38518829",
   "metadata": {},
   "outputs": [
    {
     "data": {
      "text/html": [
       "<div>\n",
       "<style scoped>\n",
       "    .dataframe tbody tr th:only-of-type {\n",
       "        vertical-align: middle;\n",
       "    }\n",
       "\n",
       "    .dataframe tbody tr th {\n",
       "        vertical-align: top;\n",
       "    }\n",
       "\n",
       "    .dataframe thead th {\n",
       "        text-align: right;\n",
       "    }\n",
       "</style>\n",
       "<table border=\"1\" class=\"dataframe\">\n",
       "  <thead>\n",
       "    <tr style=\"text-align: right;\">\n",
       "      <th></th>\n",
       "      <th>EDAD</th>\n",
       "      <th>RIESGO</th>\n",
       "      <th>EXAMEN</th>\n",
       "    </tr>\n",
       "  </thead>\n",
       "  <tbody>\n",
       "    <tr>\n",
       "      <th>0</th>\n",
       "      <td>55</td>\n",
       "      <td>ALTO</td>\n",
       "      <td>SI</td>\n",
       "    </tr>\n",
       "    <tr>\n",
       "      <th>1</th>\n",
       "      <td>56</td>\n",
       "      <td>MEDIO</td>\n",
       "      <td>NO</td>\n",
       "    </tr>\n",
       "    <tr>\n",
       "      <th>2</th>\n",
       "      <td>58</td>\n",
       "      <td>MEDIO</td>\n",
       "      <td>SI</td>\n",
       "    </tr>\n",
       "    <tr>\n",
       "      <th>3</th>\n",
       "      <td>56</td>\n",
       "      <td>BAJO</td>\n",
       "      <td>NO</td>\n",
       "    </tr>\n",
       "    <tr>\n",
       "      <th>4</th>\n",
       "      <td>59</td>\n",
       "      <td>BAJO</td>\n",
       "      <td>NO</td>\n",
       "    </tr>\n",
       "    <tr>\n",
       "      <th>5</th>\n",
       "      <td>57</td>\n",
       "      <td>MEDIO</td>\n",
       "      <td>SI</td>\n",
       "    </tr>\n",
       "    <tr>\n",
       "      <th>6</th>\n",
       "      <td>60</td>\n",
       "      <td>BAJO</td>\n",
       "      <td>SI</td>\n",
       "    </tr>\n",
       "    <tr>\n",
       "      <th>7</th>\n",
       "      <td>53</td>\n",
       "      <td>ALTO</td>\n",
       "      <td>NO</td>\n",
       "    </tr>\n",
       "    <tr>\n",
       "      <th>8</th>\n",
       "      <td>59</td>\n",
       "      <td>MEDIO</td>\n",
       "      <td>SI</td>\n",
       "    </tr>\n",
       "  </tbody>\n",
       "</table>\n",
       "</div>"
      ],
      "text/plain": [
       "   EDAD RIESGO EXAMEN\n",
       "0    55   ALTO     SI\n",
       "1    56  MEDIO     NO\n",
       "2    58  MEDIO     SI\n",
       "3    56   BAJO     NO\n",
       "4    59   BAJO     NO\n",
       "5    57  MEDIO     SI\n",
       "6    60   BAJO     SI\n",
       "7    53   ALTO     NO\n",
       "8    59  MEDIO     SI"
      ]
     },
     "execution_count": 40,
     "metadata": {},
     "output_type": "execute_result"
    }
   ],
   "source": [
    "df_original = pd.read_csv('../data/ej3_tabla_p2.csv')\n",
    "df = df_original.copy()\n",
    "\n",
    "df"
   ]
  },
  {
   "cell_type": "code",
   "execution_count": 41,
   "id": "6aea5540",
   "metadata": {},
   "outputs": [],
   "source": [
    "df['RIESGO'] = df['RIESGO'].map({'BAJO': 1, 'MEDIO': 2, 'ALTO': 3})\n",
    "df['EXAMEN'] = df['EXAMEN'].map({'SI': 1, 'NO': 0})"
   ]
  },
  {
   "cell_type": "code",
   "execution_count": 42,
   "id": "c908fa4f",
   "metadata": {},
   "outputs": [
    {
     "name": "stdout",
     "output_type": "stream",
     "text": [
      "Correlacion entre edad y riesgo: -0.7150969419341943\n"
     ]
    }
   ],
   "source": [
    "print('Correlacion entre edad y riesgo:', df['EDAD'].corr(df['RIESGO']))\n"
   ]
  },
  {
   "cell_type": "markdown",
   "id": "88839044",
   "metadata": {},
   "source": [
    "Interpretación (r = −0.715):\n",
    "\n",
    "- Es una correlación lineal negativa moderada–fuerte.\n",
    "\n",
    "- Con tu codificación RIESGO: BAJO=1, MEDIO=2, ALTO=3, el signo “−” indica que a mayor EDAD, menor RIESGO (los más jóvenes tienden a tener riesgo más alto).\n",
    "\n",
    "- La magnitud (~0.72) sugiere una relación importante: si ajustaras una recta, r² ≈ 0.51 ⇒ ~51% de la variación (numérica) del riesgo quedaría explicada por la edad bajo este modelo lineal."
   ]
  },
  {
   "cell_type": "code",
   "execution_count": 43,
   "id": "62a5e3c4",
   "metadata": {},
   "outputs": [],
   "source": [
    "from sklearn.preprocessing import MinMaxScaler\n",
    "edad_scaler = MinMaxScaler().fit(df[['EDAD', 'RIESGO']])\n",
    "df[['EDAD', 'RIESGO']] = edad_scaler.transform(df[['EDAD', 'RIESGO']])\n",
    "X_train = df[['EDAD', 'RIESGO']].to_numpy()\n",
    "\n"
   ]
  },
  {
   "cell_type": "code",
   "execution_count": 44,
   "id": "3c4b326c",
   "metadata": {},
   "outputs": [],
   "source": [
    "# test_df = q = pd.DataFrame({\"EDAD\":[50, 51, 54, 55],\n",
    "#                   \"RIESGO\":[\"BAJO\",\"MEDIO\",\"ALTO\", \"MEDIO\"]})\n",
    "\n",
    "# test_df['RIESGO'] = test_df['RIESGO'].map({'BAJO': 1, 'MEDIO': 2, 'ALTO': 3})\n",
    "# test_df['EDAD'] = edad_scaler.transform(test_df[['EDAD']])\n",
    "\n",
    "# X_test = test_df[['EDAD', 'RIESGO']].to_numpy()\n",
    "\n",
    "\n",
    "# print(\"X_test shape:\", X_test.shape)\n",
    "\n",
    "# print(\"X_test:\", X_test)\n",
    "\n",
    "\n",
    "\n",
    "\n",
    "\n"
   ]
  },
  {
   "cell_type": "code",
   "execution_count": 45,
   "id": "56bf9641",
   "metadata": {},
   "outputs": [],
   "source": [
    "# #weights = np.array([0.0807, 0.074])\n",
    "# weights = np.array([-0.076, -0.071])\n",
    "# #bias = -0.0742\n",
    "# bias = 0.071\n",
    "\n",
    "\n",
    "# y_pred = X_test @ weights + bias\n",
    "# score = (y_pred > 0).astype(int)\n",
    "\n",
    "# print(y_pred)\n",
    "# print(score)\n",
    "\n",
    "\n",
    "\n",
    "\n",
    "\n",
    "\n",
    "\n"
   ]
  },
  {
   "cell_type": "code",
   "execution_count": 46,
   "id": "5162b95d",
   "metadata": {},
   "outputs": [
    {
     "data": {
      "text/plain": [
       "array([0, 1, 0, 1, 1, 0, 0, 0, 0])"
      ]
     },
     "execution_count": 46,
     "metadata": {},
     "output_type": "execute_result"
    }
   ],
   "source": [
    "## Prueba para cuestinario\n",
    "\n",
    "weights = np.array([-0.076, -0.071])\n",
    "bias = 0.071\n",
    "y_pred = X_train @ weights + bias\n",
    "score = (y_pred > 0).astype(int)\n",
    "\n",
    "score"
   ]
  },
  {
   "cell_type": "code",
   "execution_count": 47,
   "id": "579ed504",
   "metadata": {},
   "outputs": [
    {
     "data": {
      "text/plain": [
       "0    1\n",
       "1    0\n",
       "2    1\n",
       "3    0\n",
       "4    0\n",
       "5    1\n",
       "6    1\n",
       "7    0\n",
       "8    1\n",
       "Name: EXAMEN, dtype: int64"
      ]
     },
     "execution_count": 47,
     "metadata": {},
     "output_type": "execute_result"
    }
   ],
   "source": [
    "df['EXAMEN']"
   ]
  }
 ],
 "metadata": {
  "kernelspec": {
   "display_name": ".venv",
   "language": "python",
   "name": "python3"
  },
  "language_info": {
   "codemirror_mode": {
    "name": "ipython",
    "version": 3
   },
   "file_extension": ".py",
   "mimetype": "text/x-python",
   "name": "python",
   "nbconvert_exporter": "python",
   "pygments_lexer": "ipython3",
   "version": "3.12.3"
  }
 },
 "nbformat": 4,
 "nbformat_minor": 5
}
