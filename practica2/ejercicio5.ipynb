{
 "cells": [
  {
   "cell_type": "code",
   "execution_count": 1,
   "id": "aa9bfb4b",
   "metadata": {},
   "outputs": [],
   "source": [
    "import pandas as pd\n",
    "import numpy as np\n",
    "import matplotlib.pyplot as plt\n",
    "import seaborn as sns\n",
    "from sklearn.preprocessing import StandardScaler, OneHotEncoder"
   ]
  },
  {
   "cell_type": "code",
   "execution_count": 2,
   "id": "0b5225b6",
   "metadata": {},
   "outputs": [],
   "source": [
    "\n",
    "\n",
    "\n",
    "from calendar import c\n",
    "\n",
    "\n",
    "df_original = pd.read_csv('../data/semillas.csv')\n",
    "df = df_original.copy()\n",
    "\n",
    "\n",
    "cols_to_standardize = ['Area', 'Perimetro', 'Compacidad', 'LongNucleo', 'AnchoNucleo', 'Asimetria', 'LongSurco']\n",
    "\n",
    "scaler = StandardScaler().fit(df[cols_to_standardize])\n",
    "df[cols_to_standardize] = scaler.transform(df[cols_to_standardize])\n",
    "\n"
   ]
  },
  {
   "cell_type": "code",
   "execution_count": 3,
   "id": "7cbc88aa",
   "metadata": {},
   "outputs": [
    {
     "name": "stdout",
     "output_type": "stream",
     "text": [
      "Score prediciendo Tipo1 0.9428571428571428\n",
      "Score prediciendo Tipo2 1.0\n",
      "Score prediciendo Tipo3 0.9571428571428572\n"
     ]
    }
   ],
   "source": [
    "from perceptron import Perceptron\n",
    "\n",
    "\n",
    "x = df.drop(columns=[\"Clase\", \"Area\", 'Perimetro'])\n",
    "\n",
    "tipos = ['Tipo1', 'Tipo2', 'Tipo3']\n",
    "for tipo in tipos:\n",
    "    y_tipo = (df['Clase'] == tipo).astype(int)\n",
    "    ml = Perceptron(lr=0.05, max_iter=200)\n",
    "    ml.fit(x, y_tipo)\n",
    "    print(f\"Score prediciendo {tipo}\" , ml.score(x, y_tipo))"
   ]
  },
  {
   "cell_type": "code",
   "execution_count": null,
   "id": "2d93c309",
   "metadata": {},
   "outputs": [],
   "source": []
  }
 ],
 "metadata": {
  "kernelspec": {
   "display_name": ".venv",
   "language": "python",
   "name": "python3"
  },
  "language_info": {
   "codemirror_mode": {
    "name": "ipython",
    "version": 3
   },
   "file_extension": ".py",
   "mimetype": "text/x-python",
   "name": "python",
   "nbconvert_exporter": "python",
   "pygments_lexer": "ipython3",
   "version": "3.12.3"
  }
 },
 "nbformat": 4,
 "nbformat_minor": 5
}
