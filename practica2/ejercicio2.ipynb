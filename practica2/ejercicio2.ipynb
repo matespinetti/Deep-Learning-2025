{
 "cells": [
  {
   "cell_type": "code",
   "execution_count": 33,
   "id": "2928538e",
   "metadata": {},
   "outputs": [],
   "source": [
    "import pandas as pd\n",
    "import numpy as np\n",
    "import matplotlib.pyplot as plt\n",
    "import seaborn as sns\n"
   ]
  },
  {
   "cell_type": "code",
   "execution_count": 34,
   "id": "89d0c1cb",
   "metadata": {},
   "outputs": [
    {
     "data": {
      "text/html": [
       "<div>\n",
       "<style scoped>\n",
       "    .dataframe tbody tr th:only-of-type {\n",
       "        vertical-align: middle;\n",
       "    }\n",
       "\n",
       "    .dataframe tbody tr th {\n",
       "        vertical-align: top;\n",
       "    }\n",
       "\n",
       "    .dataframe thead th {\n",
       "        text-align: right;\n",
       "    }\n",
       "</style>\n",
       "<table border=\"1\" class=\"dataframe\">\n",
       "  <thead>\n",
       "    <tr style=\"text-align: right;\">\n",
       "      <th></th>\n",
       "      <th>Color</th>\n",
       "      <th>Tamanio</th>\n",
       "      <th>Se_estira?</th>\n",
       "      <th>Edad</th>\n",
       "      <th>Inflado?</th>\n",
       "    </tr>\n",
       "  </thead>\n",
       "  <tbody>\n",
       "    <tr>\n",
       "      <th>0</th>\n",
       "      <td>Amarillo</td>\n",
       "      <td>Chico</td>\n",
       "      <td>Si</td>\n",
       "      <td>Adulto</td>\n",
       "      <td>Si</td>\n",
       "    </tr>\n",
       "    <tr>\n",
       "      <th>1</th>\n",
       "      <td>Amarillo</td>\n",
       "      <td>Chico</td>\n",
       "      <td>Si</td>\n",
       "      <td>Nene</td>\n",
       "      <td>Si</td>\n",
       "    </tr>\n",
       "    <tr>\n",
       "      <th>2</th>\n",
       "      <td>Amarillo</td>\n",
       "      <td>Chico</td>\n",
       "      <td>No</td>\n",
       "      <td>Adulto</td>\n",
       "      <td>No</td>\n",
       "    </tr>\n",
       "    <tr>\n",
       "      <th>3</th>\n",
       "      <td>Amarillo</td>\n",
       "      <td>Chico</td>\n",
       "      <td>No</td>\n",
       "      <td>Nene</td>\n",
       "      <td>No</td>\n",
       "    </tr>\n",
       "    <tr>\n",
       "      <th>4</th>\n",
       "      <td>Amarillo</td>\n",
       "      <td>Grande</td>\n",
       "      <td>Si</td>\n",
       "      <td>Adulto</td>\n",
       "      <td>Si</td>\n",
       "    </tr>\n",
       "  </tbody>\n",
       "</table>\n",
       "</div>"
      ],
      "text/plain": [
       "      Color Tamanio Se_estira?    Edad Inflado?\n",
       "0  Amarillo   Chico         Si  Adulto       Si\n",
       "1  Amarillo   Chico         Si    Nene       Si\n",
       "2  Amarillo   Chico         No  Adulto       No\n",
       "3  Amarillo   Chico         No    Nene       No\n",
       "4  Amarillo  Grande         Si  Adulto       Si"
      ]
     },
     "execution_count": 34,
     "metadata": {},
     "output_type": "execute_result"
    }
   ],
   "source": [
    "df_original = pd.read_csv('../data/globos.csv')\n",
    "df = df_original.copy()\n",
    "\n",
    "df.head()"
   ]
  },
  {
   "cell_type": "code",
   "execution_count": 35,
   "id": "33d8aedb",
   "metadata": {},
   "outputs": [
    {
     "data": {
      "text/html": [
       "<div>\n",
       "<style scoped>\n",
       "    .dataframe tbody tr th:only-of-type {\n",
       "        vertical-align: middle;\n",
       "    }\n",
       "\n",
       "    .dataframe tbody tr th {\n",
       "        vertical-align: top;\n",
       "    }\n",
       "\n",
       "    .dataframe thead th {\n",
       "        text-align: right;\n",
       "    }\n",
       "</style>\n",
       "<table border=\"1\" class=\"dataframe\">\n",
       "  <thead>\n",
       "    <tr style=\"text-align: right;\">\n",
       "      <th></th>\n",
       "      <th>Color</th>\n",
       "      <th>Tamanio</th>\n",
       "      <th>Se_estira?</th>\n",
       "      <th>Edad</th>\n",
       "      <th>Inflado?</th>\n",
       "    </tr>\n",
       "  </thead>\n",
       "  <tbody>\n",
       "    <tr>\n",
       "      <th>count</th>\n",
       "      <td>16</td>\n",
       "      <td>16</td>\n",
       "      <td>16</td>\n",
       "      <td>16</td>\n",
       "      <td>16</td>\n",
       "    </tr>\n",
       "    <tr>\n",
       "      <th>unique</th>\n",
       "      <td>2</td>\n",
       "      <td>3</td>\n",
       "      <td>2</td>\n",
       "      <td>2</td>\n",
       "      <td>2</td>\n",
       "    </tr>\n",
       "    <tr>\n",
       "      <th>top</th>\n",
       "      <td>Amarillo</td>\n",
       "      <td>Chico</td>\n",
       "      <td>Si</td>\n",
       "      <td>Adulto</td>\n",
       "      <td>No</td>\n",
       "    </tr>\n",
       "    <tr>\n",
       "      <th>freq</th>\n",
       "      <td>8</td>\n",
       "      <td>6</td>\n",
       "      <td>8</td>\n",
       "      <td>8</td>\n",
       "      <td>10</td>\n",
       "    </tr>\n",
       "  </tbody>\n",
       "</table>\n",
       "</div>"
      ],
      "text/plain": [
       "           Color Tamanio Se_estira?    Edad Inflado?\n",
       "count         16      16         16      16       16\n",
       "unique         2       3          2       2        2\n",
       "top     Amarillo   Chico         Si  Adulto       No\n",
       "freq           8       6          8       8       10"
      ]
     },
     "execution_count": 35,
     "metadata": {},
     "output_type": "execute_result"
    }
   ],
   "source": [
    "df.describe(include='all')"
   ]
  },
  {
   "cell_type": "code",
   "execution_count": 36,
   "id": "0fa8e76f",
   "metadata": {},
   "outputs": [],
   "source": [
    "import pandas as pd\n",
    "import numpy as np\n",
    "import matplotlib.pyplot as plt\n",
    "import seaborn as sns\n",
    "\n",
    "df_original = pd.read_csv('../data/globos.csv')\n",
    "df = df_original.copy()\n",
    "\n",
    "df['Color'] = df['Color'].map({'Rojo': 1, 'Amarillo': 0})\n",
    "df['Se_estira?'] = df['Se_estira?'].map({'Si': 1, 'No': 0})\n",
    "df['Edad'] = df['Edad'].map({'Nene': 0, 'Adulto': 1})\n",
    "df['Tamanio'] = df['Tamanio'].map({'Chico': 0, 'Mediano': 0.5, 'Grande': 1})\n",
    "\n",
    "df['Inflado?'] = df['Inflado?'].map({'Si': 1, 'No': 0})"
   ]
  },
  {
   "cell_type": "code",
   "execution_count": 37,
   "id": "4a3c575a",
   "metadata": {},
   "outputs": [
    {
     "name": "stdout",
     "output_type": "stream",
     "text": [
      "X shape: (16, 4)\n",
      "y shape: (16,)\n",
      "X: [[0.  0.  1.  1. ]\n",
      " [0.  0.  1.  0. ]\n",
      " [0.  0.  0.  1. ]\n",
      " [0.  0.  0.  0. ]\n",
      " [0.  1.  1.  1. ]\n",
      " [0.  1.  1.  0. ]\n",
      " [0.  0.5 0.  1. ]\n",
      " [0.  0.5 0.  0. ]\n",
      " [1.  0.  1.  1. ]\n",
      " [1.  0.  1.  0. ]\n",
      " [1.  0.5 0.  1. ]\n",
      " [1.  0.5 0.  0. ]\n",
      " [1.  1.  1.  1. ]\n",
      " [1.  1.  1.  0. ]\n",
      " [1.  1.  0.  1. ]\n",
      " [1.  1.  0.  0. ]]\n",
      "y: [1 1 0 0 1 1 0 0 1 0 0 0 1 0 0 0]\n"
     ]
    }
   ],
   "source": [
    "# Orden de features: [Color, Tamanio, Se_estira?, Edad]\n",
    "X = df[[\"Color\", \"Tamanio\", \"Se_estira?\", \"Edad\"]].to_numpy()\n",
    "y = df[\"Inflado?\"].to_numpy()\n",
    "\n",
    "print(\"X shape:\", X.shape)\n",
    "print(\"y shape:\", y.shape)\n",
    "print(\"X:\", X)\n",
    "print(\"y:\", y)"
   ]
  },
  {
   "cell_type": "code",
   "execution_count": 38,
   "id": "a73c1c84",
   "metadata": {},
   "outputs": [],
   "source": [
    "# Definir perceptrones (w y b) tal como en la tabla\n",
    "perceptrones = {\n",
    "    \"P1\": {\"w\": np.array([0.050, 0.006, -0.068, -0.047]), \"b\": 0.005},\n",
    "    \"P2\": {\"w\": np.array([-0.494, -0.003, 0.722, 0.489]), \"b\": -0.4943},\n",
    "    \"P3\": {\"w\": np.array([0.060, 0.004, 0.1278, 0.021]), \"b\": -0.1132},\n",
    "    \"P4\": {\"w\": np.array([0.296, 0.026, -0.576, -0.287]), \"b\": 0.371},\n",
    "    \"P5\": {\"w\": np.array([0.994, 0.006, -1.466, -0.989]), \"b\": 0.988},\n",
    "    \"P6\": {\"w\": np.array([0.035, 0.011, -0.074, -0.028]), \"b\": 0.042}\n",
    "}"
   ]
  },
  {
   "cell_type": "code",
   "execution_count": 39,
   "id": "304cb813",
   "metadata": {},
   "outputs": [
    {
     "data": {
      "text/html": [
       "<div>\n",
       "<style scoped>\n",
       "    .dataframe tbody tr th:only-of-type {\n",
       "        vertical-align: middle;\n",
       "    }\n",
       "\n",
       "    .dataframe tbody tr th {\n",
       "        vertical-align: top;\n",
       "    }\n",
       "\n",
       "    .dataframe thead th {\n",
       "        text-align: right;\n",
       "    }\n",
       "</style>\n",
       "<table border=\"1\" class=\"dataframe\">\n",
       "  <thead>\n",
       "    <tr style=\"text-align: right;\">\n",
       "      <th></th>\n",
       "      <th>Perceptrón</th>\n",
       "      <th>Accuracy</th>\n",
       "      <th>Errores</th>\n",
       "    </tr>\n",
       "  </thead>\n",
       "  <tbody>\n",
       "    <tr>\n",
       "      <th>0</th>\n",
       "      <td>P1</td>\n",
       "      <td>0.2500</td>\n",
       "      <td>12</td>\n",
       "    </tr>\n",
       "    <tr>\n",
       "      <th>1</th>\n",
       "      <td>P2</td>\n",
       "      <td>1.0000</td>\n",
       "      <td>0</td>\n",
       "    </tr>\n",
       "    <tr>\n",
       "      <th>2</th>\n",
       "      <td>P3</td>\n",
       "      <td>0.8750</td>\n",
       "      <td>2</td>\n",
       "    </tr>\n",
       "    <tr>\n",
       "      <th>3</th>\n",
       "      <td>P4</td>\n",
       "      <td>0.0000</td>\n",
       "      <td>16</td>\n",
       "    </tr>\n",
       "    <tr>\n",
       "      <th>4</th>\n",
       "      <td>P5</td>\n",
       "      <td>0.0625</td>\n",
       "      <td>15</td>\n",
       "    </tr>\n",
       "    <tr>\n",
       "      <th>5</th>\n",
       "      <td>P6</td>\n",
       "      <td>0.0000</td>\n",
       "      <td>16</td>\n",
       "    </tr>\n",
       "  </tbody>\n",
       "</table>\n",
       "</div>"
      ],
      "text/plain": [
       "  Perceptrón  Accuracy  Errores\n",
       "0         P1    0.2500       12\n",
       "1         P2    1.0000        0\n",
       "2         P3    0.8750        2\n",
       "3         P4    0.0000       16\n",
       "4         P5    0.0625       15\n",
       "5         P6    0.0000       16"
      ]
     },
     "execution_count": 39,
     "metadata": {},
     "output_type": "execute_result"
    }
   ],
   "source": [
    "def predict_perceptron(X, w, b):\n",
    "    # y_hat = 1 si w·x + b > 0, else 0\n",
    "    scores = X @ w + b\n",
    "    return (scores > 0).astype(int), scores\n",
    "\n",
    "results = []\n",
    "for name, params in perceptrones.items():\n",
    "    yhat, s = predict_perceptron(X, params[\"w\"], params[\"b\"])\n",
    "    acc = (yhat == y).mean()\n",
    "    errors = int((yhat != y).sum())\n",
    "    results.append((name, acc, errors))\n",
    "\n",
    "res_df = pd.DataFrame(results, columns=[\"Perceptrón\", \"Accuracy\", \"Errores\"])\n",
    "\n",
    "res_df\n"
   ]
  },
  {
   "cell_type": "code",
   "execution_count": 40,
   "id": "b77b5959",
   "metadata": {},
   "outputs": [
    {
     "data": {
      "text/plain": [
       "('P2', 'P4')"
      ]
     },
     "execution_count": 40,
     "metadata": {},
     "output_type": "execute_result"
    }
   ],
   "source": [
    "# Devolver también un detalle por ejemplo para el peor y mejor\n",
    "best = max(results, key=lambda t: t[1])[0]\n",
    "worst = min(results, key=lambda t: t[1])[0]\n",
    "best, worst "
   ]
  }
 ],
 "metadata": {
  "kernelspec": {
   "display_name": ".venv",
   "language": "python",
   "name": "python3"
  },
  "language_info": {
   "codemirror_mode": {
    "name": "ipython",
    "version": 3
   },
   "file_extension": ".py",
   "mimetype": "text/x-python",
   "name": "python",
   "nbconvert_exporter": "python",
   "pygments_lexer": "ipython3",
   "version": "3.12.3"
  }
 },
 "nbformat": 4,
 "nbformat_minor": 5
}
