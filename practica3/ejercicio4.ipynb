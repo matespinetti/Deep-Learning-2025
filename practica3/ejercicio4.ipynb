{
 "cells": [
  {
   "cell_type": "code",
   "execution_count": 16,
   "id": "6a3d4b2c",
   "metadata": {},
   "outputs": [],
   "source": [
    "import pandas as pd\n",
    "import numpy as np\n",
    "import matplotlib.pyplot as plt\n",
    "import seaborn as sns\n"
   ]
  },
  {
   "cell_type": "code",
   "execution_count": 17,
   "id": "fec08803",
   "metadata": {},
   "outputs": [],
   "source": [
    "df_original = pd.read_csv('../data/practica3/CCPP.csv')\n",
    "\n",
    "df = df_original.copy()\n",
    "\n",
    "parametros = {\n",
    "    'a': {'W': -2.00, 'b': 500},\n",
    "    'b': {'W': -2.21, 'b': 498},\n",
    "    'c': {'W': -2.30, 'b': 497},\n",
    "    'd': {'W': -2.22, 'b': 496.5},\n",
    "    'e': {'W': -2.16, 'b': 496.91}\n",
    "}"
   ]
  },
  {
   "cell_type": "code",
   "execution_count": 18,
   "id": "61f5af2f",
   "metadata": {},
   "outputs": [
    {
     "data": {
      "text/html": [
       "<div>\n",
       "<style scoped>\n",
       "    .dataframe tbody tr th:only-of-type {\n",
       "        vertical-align: middle;\n",
       "    }\n",
       "\n",
       "    .dataframe tbody tr th {\n",
       "        vertical-align: top;\n",
       "    }\n",
       "\n",
       "    .dataframe thead th {\n",
       "        text-align: right;\n",
       "    }\n",
       "</style>\n",
       "<table border=\"1\" class=\"dataframe\">\n",
       "  <thead>\n",
       "    <tr style=\"text-align: right;\">\n",
       "      <th></th>\n",
       "      <th>bias</th>\n",
       "      <th>w</th>\n",
       "      <th>ECM</th>\n",
       "    </tr>\n",
       "  </thead>\n",
       "  <tbody>\n",
       "    <tr>\n",
       "      <th>0</th>\n",
       "      <td>500.00</td>\n",
       "      <td>-2.00</td>\n",
       "      <td>71.162555</td>\n",
       "    </tr>\n",
       "    <tr>\n",
       "      <th>1</th>\n",
       "      <td>498.00</td>\n",
       "      <td>-2.21</td>\n",
       "      <td>29.557129</td>\n",
       "    </tr>\n",
       "    <tr>\n",
       "      <th>2</th>\n",
       "      <td>497.00</td>\n",
       "      <td>-2.30</td>\n",
       "      <td>36.919412</td>\n",
       "    </tr>\n",
       "    <tr>\n",
       "      <th>3</th>\n",
       "      <td>496.50</td>\n",
       "      <td>-2.22</td>\n",
       "      <td>31.785616</td>\n",
       "    </tr>\n",
       "    <tr>\n",
       "      <th>4</th>\n",
       "      <td>496.91</td>\n",
       "      <td>-2.16</td>\n",
       "      <td>29.448487</td>\n",
       "    </tr>\n",
       "  </tbody>\n",
       "</table>\n",
       "</div>"
      ],
      "text/plain": [
       "     bias     w        ECM\n",
       "0  500.00 -2.00  71.162555\n",
       "1  498.00 -2.21  29.557129\n",
       "2  497.00 -2.30  36.919412\n",
       "3  496.50 -2.22  31.785616\n",
       "4  496.91 -2.16  29.448487"
      ]
     },
     "execution_count": 18,
     "metadata": {},
     "output_type": "execute_result"
    }
   ],
   "source": [
    "AT_values = df['AT'].values\n",
    "resultados = []\n",
    "for opcion,params in parametros.items():\n",
    "    y_pred = params['W'] * AT_values + params['b']\n",
    "    ecm = ((df['PE'] - y_pred) ** 2).mean()\n",
    "    resultados.append({\"bias\": params['b'], 'w': params['W'], 'ECM': ecm})\n",
    "\n",
    "res_df = pd.DataFrame(resultados)\n",
    "res_df\n",
    "\n"
   ]
  }
 ],
 "metadata": {
  "kernelspec": {
   "display_name": ".venv",
   "language": "python",
   "name": "python3"
  },
  "language_info": {
   "codemirror_mode": {
    "name": "ipython",
    "version": 3
   },
   "file_extension": ".py",
   "mimetype": "text/x-python",
   "name": "python",
   "nbconvert_exporter": "python",
   "pygments_lexer": "ipython3",
   "version": "3.13.3"
  }
 },
 "nbformat": 4,
 "nbformat_minor": 5
}
