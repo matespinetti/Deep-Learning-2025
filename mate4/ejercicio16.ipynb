{
 "cells": [
  {
   "cell_type": "code",
   "execution_count": 10,
   "id": "69fc1e22",
   "metadata": {},
   "outputs": [
    {
     "name": "stdout",
     "output_type": "stream",
     "text": [
      "Valor de x0 conseguido:  0.012379400392853806\n",
      "Valor de y0 conseguido:  -0.2472146349116079\n",
      "Historial de x0s:  [10, 8.0, 6.4, 5.12, 4.096, 3.2768, 2.62144, 2.0971520000000003, 1.6777216000000004, 1.3421772800000003, 1.0737418240000003, 0.8589934592000003, 0.6871947673600002, 0.5497558138880001, 0.43980465111040007, 0.35184372088832006, 0.281474976710656, 0.22517998136852482, 0.18014398509481985, 0.14411518807585588, 0.11529215046068471, 0.09223372036854777, 0.07378697629483821, 0.05902958103587057, 0.04722366482869646, 0.037778931862957166, 0.030223145490365734, 0.024178516392292588, 0.01934281311383407, 0.015474250491067256, 0.012379400392853806]\n",
      "Historia de y0s:  [2, 1.55, 1.19, 0.9019999999999999, 0.6716, 0.48727999999999994, 0.3398239999999999, 0.22185919999999992, 0.12748735999999994, 0.05198988799999994, -0.008408089600000043, -0.056726471680000036, -0.09538117734400003, -0.12630494187520003, -0.15104395350016003, -0.17083516280012803, -0.18666813024010243, -0.19933450419208193, -0.20946760335366554, -0.21757408268293243, -0.22405926614634594, -0.22924741291707676, -0.2333979303336614, -0.23671834426692911, -0.2393746754135433, -0.24149974033083463, -0.2431997922646677, -0.24455983381173416, -0.24564786704938732, -0.24651829363950986, -0.2472146349116079]\n",
      "Cantidad de epochs 29\n"
     ]
    }
   ],
   "source": [
    "import numpy as np\n",
    "def f(x,y):\n",
    "    return x ** 2 + y ** 2 + 0.5 * y - 2\n",
    "\n",
    "x0 = 10\n",
    "y0 = 2\n",
    "\n",
    "epoch_act = 0\n",
    "cant_epoch = 100\n",
    "tol = 1e-4\n",
    "dif = np.inf\n",
    "lr = 0.1\n",
    "historial_x0 = [x0]\n",
    "historial_y0 = [y0]\n",
    "f_old = f(x0, y0)\n",
    "\n",
    "while((epoch_act < cant_epoch) & (dif >= tol)):\n",
    "    der_x = 2*x0\n",
    "    der_y = 2*y0 + 1/2\n",
    "\n",
    "    #Paso del gradiente\n",
    "    nuevo_x0 = x0 - lr * der_x\n",
    "    nuevo_y0 = y0 - lr * der_y \n",
    "    #Tolerancia segun apunte\n",
    "    f_new = f(nuevo_x0, nuevo_y0)\n",
    "    dif = abs(f_new -  f_old)\n",
    "\n",
    "    #Avananzar\n",
    "    x0, y0 = nuevo_x0, nuevo_y0\n",
    "    f_old = f_new \n",
    "    historial_x0.append(x0)\n",
    "    historial_y0.append(y0)\n",
    "    epoch_act += 1\n",
    "\n",
    "\n",
    "print(\"Valor de x0 conseguido: \", x0)\n",
    "print(\"Valor de y0 conseguido: \", y0)\n",
    "print(\"Historial de x0s: \", historial_x0)\n",
    "print(\"Historia de y0s: \", historial_y0)\n",
    "print(\"Cantidad de epochs\", epoch_act - 1)\n"
   ]
  }
 ],
 "metadata": {
  "kernelspec": {
   "display_name": ".venv",
   "language": "python",
   "name": "python3"
  },
  "language_info": {
   "codemirror_mode": {
    "name": "ipython",
    "version": 3
   },
   "file_extension": ".py",
   "mimetype": "text/x-python",
   "name": "python",
   "nbconvert_exporter": "python",
   "pygments_lexer": "ipython3",
   "version": "3.12.3"
  }
 },
 "nbformat": 4,
 "nbformat_minor": 5
}
